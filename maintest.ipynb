{
 "cells": [
  {
   "cell_type": "code",
   "execution_count": null,
   "id": "41cadafb",
   "metadata": {},
   "outputs": [],
   "source": [
    "import os\n",
    "import sys\n",
    "import glob\n",
    "import time\n",
    "from collections import OrderedDict, Counter\n",
    "\n",
    "from IPython.display import Audio, display\n",
    "import numpy as np\n",
    "import pandas as pd\n",
    "import tqdm\n",
    "from ipywidgets import widgets\n",
    "import soundfile as sf\n",
    "from sklearn.metrics import roc_curve, accuracy_score, confusion_matrix, roc_auc_score\n",
    "from sklearn.metrics.pairwise import cosine_similarity\n",
    "import torch\n",
    "import torch.nn as nn\n",
    "import torch.nn.functional as F\n",
    "from torch.utils.data import Dataset\n",
    "\n",
    "from SpeakerNet import ModelTrainer, SpeakerNet,WrappedModel\n",
    "from DatasetLoader import train_dataset_loader,test_dataset_loader,train_dataset_sampler"
   ]
  },
  {
   "cell_type": "code",
   "execution_count": null,
   "id": "96c49371",
   "metadata": {},
   "outputs": [],
   "source": [
    "import yaml"
   ]
  },
  {
   "cell_type": "code",
   "execution_count": null,
   "id": "3a9734fc",
   "metadata": {},
   "outputs": [],
   "source": [
    "print(torch.cuda.is_available())\n",
    "print(torch.__version__)\n",
    "print(torch.backends.cudnn.enabled)"
   ]
  },
  {
   "cell_type": "code",
   "execution_count": null,
   "id": "ae59a17e",
   "metadata": {},
   "outputs": [],
   "source": [
    "# 현재 Setup 되어있는 device 확인\n",
    "device = torch.device('cuda' if torch.cuda.is_available() else 'cpu')\n",
    "print ('Available devices ', torch.cuda.device_count())\n",
    "print ('Current cuda device ', torch.cuda.current_device())\n",
    "print(torch.cuda.get_device_name(device))\n",
    "\n",
    "# GPU 할당 변경하기\n",
    "GPU_NUM = 1 # 원하는 GPU 번호 입력\n",
    "device = torch.device(f'cuda:{GPU_NUM}' if torch.cuda.is_available() else 'cpu')\n",
    "torch.cuda.set_device(device) # change allocation of current GPU\n",
    "print ('Current cuda device ', torch.cuda.current_device()) # check\n",
    "\n",
    "# Additional Infos\n",
    "if device.type == 'cuda':\n",
    "    print(torch.cuda.get_device_name(GPU_NUM))\n",
    "    print('Memory Usage:')\n",
    "    print('Allocated:', round(torch.cuda.memory_allocated(GPU_NUM)/1024**3,1), 'GB')\n",
    "    print('Cached:   ', round(torch.cuda.memory_reserved(GPU_NUM)/1024**3,1), 'GB')\n"
   ]
  },
  {
   "cell_type": "markdown",
   "id": "b4b777d6",
   "metadata": {},
   "source": [
    "# 1.Training"
   ]
  },
  {
   "cell_type": "code",
   "execution_count": null,
   "id": "7c8df049",
   "metadata": {},
   "outputs": [],
   "source": [
    "n_gpus = torch.cuda.device_count()\n",
    "print('n_gpus',n_gpus)\n",
    "distributed = True\n",
    "\n",
    "0,None, args"
   ]
  },
  {
   "cell_type": "code",
   "execution_count": null,
   "id": "d6db798e",
   "metadata": {},
   "outputs": [],
   "source": [
    "#Fast ResNet-34\n",
    "gpu = 0\n",
    "max_frames = 200\n",
    "nPerSpeaker = 2 \n",
    "batch_size = 400\n",
    "trainfunc = 'angleproto'\n",
    "model = 'ResNetSE34L'\n",
    "encoder_type = 'SAP'\n",
    "\n",
    "s = SpeakerNet(model=model, optimizer='adam', trainfunc=trainfunc, nPerSpeaker=1,\n",
    "                nOut=512,nClasses=5994)\n",
    "s = WrappedModel(s).cuda(gpu)\n",
    "\n",
    "it = 1\n",
    "eers = [100]"
   ]
  },
  {
   "cell_type": "code",
   "execution_count": null,
   "id": "cd41edeb",
   "metadata": {},
   "outputs": [],
   "source": [
    "train_list = './pairlist/train_list.txt'\n",
    "max_frames = 400\n",
    "train_path = '/direct/scp/voxceleb2'\n",
    "musan_path = '/shared/musan'\n",
    "rir_path ='/shared/rir' "
   ]
  },
  {
   "cell_type": "code",
   "execution_count": null,
   "id": "a20b53ef",
   "metadata": {},
   "outputs": [],
   "source": [
    "train_dataset = train_dataset_loader(train_list = train_list, augment = False, musan_path = musan_path,\n",
    "                                    rir_path = rir_path, max_frames = max_frames, train_path = train_path)"
   ]
  },
  {
   "cell_type": "code",
   "execution_count": null,
   "id": "1b29d0e6",
   "metadata": {},
   "outputs": [],
   "source": [
    "train_sampler = train_dataset_sampler(train_dataset,\n",
    "                                     nPerSpeaker=1,max_seg_per_spk=10,\n",
    "                                     batch_size=1, distributed=False, seed=100)"
   ]
  },
  {
   "cell_type": "code",
   "execution_count": null,
   "id": "7a49e10d",
   "metadata": {},
   "outputs": [],
   "source": [
    "train_loader = torch.utils.data.DataLoader(\n",
    "        train_dataset,\n",
    "        batch_size=200,\n",
    "        num_workers=5,\n",
    "        sampler=train_sampler,\n",
    "        pin_memory=False,\n",
    "        worker_init_fn=worker_init_fn,\n",
    "        drop_last=True,\n",
    "    )"
   ]
  },
  {
   "cell_type": "markdown",
   "id": "126ee4a0",
   "metadata": {},
   "source": [
    "# Inference"
   ]
  },
  {
   "cell_type": "code",
   "execution_count": null,
   "id": "b17b59f5",
   "metadata": {},
   "outputs": [],
   "source": [
    "def loadParameters(model,path):\n",
    "    print('(loadParameters)')\n",
    "    self_state = model.state_dict()\n",
    "    loaded_state = torch.load(path)\n",
    "\n",
    "    if len(loaded_state.keys()) == 1 and \"model\" in loaded_state:\n",
    "        loaded_state = loaded_state[\"model\"]\n",
    "        newdict = {}\n",
    "        delete_list = []\n",
    "        for name, param in loaded_state.items():\n",
    "            new_name = \"__S__.\"+name\n",
    "            newdict[new_name] = param\n",
    "            delete_list.append(name)\n",
    "        loaded_state.update(newdict)\n",
    "        for name in delete_list:\n",
    "            del loaded_state[name]\n",
    "    for name, param in loaded_state.items():\n",
    "        origname = name\n",
    "        if name not in self_state:\n",
    "            name = name.replace(\"module.\", \"\")\n",
    "\n",
    "            if name not in self_state:\n",
    "                print(\"{} is not in the model.\".format(origname))\n",
    "                continue\n",
    "\n",
    "        if self_state[name].size() != loaded_state[origname].size():\n",
    "            print(\"Wrong parameter length: {}, model: {}, loaded: {}\".format(origname, self_state[name].size(), loaded_state[origname].size()))\n",
    "            continue\n",
    "\n",
    "        self_state[name].copy_(param)\n",
    "    return self_state"
   ]
  },
  {
   "cell_type": "markdown",
   "id": "305bdec5",
   "metadata": {},
   "source": [
    "## ResNet"
   ]
  },
  {
   "cell_type": "code",
   "execution_count": null,
   "id": "613a87aa",
   "metadata": {},
   "outputs": [],
   "source": [
    "conf= {\n",
    "    'model':'ResNetSE34V2',\n",
    "    'optimizer' : 'adam',\n",
    "    'trainfunc' : 'softmaxproto',\n",
    "    'nPerSpeaker' : 1,\n",
    "    'num_eval': 10,\n",
    "    'eval_frames' : 400,\n",
    "    'n_mels' : 64,\n",
    "    'nOut' : 512,\n",
    "    'nClasses' :5994,\n",
    "    'encoder_type' : 'ASP'\n",
    "}"
   ]
  },
  {
   "cell_type": "code",
   "execution_count": null,
   "id": "a44c6e7e",
   "metadata": {},
   "outputs": [],
   "source": [
    "spn = SpeakerNet(**conf)\n",
    "\n",
    "params = loadParameters(spn,'./pretrained/baseline_v2_smproto.model')\n",
    "spn.load_state_dict(params)\n",
    "spn.cuda()"
   ]
  },
  {
   "cell_type": "markdown",
   "id": "4d28b4e7",
   "metadata": {},
   "source": [
    "## RawNet3"
   ]
  },
  {
   "cell_type": "code",
   "execution_count": null,
   "id": "a29583f5",
   "metadata": {},
   "outputs": [],
   "source": [
    "param_path = './configs'\n",
    "with open(os.path.join(param_path,'RawNet3_AAM.yaml')) as f:\n",
    "    conf = yaml.load(f,Loader = yaml.FullLoader)"
   ]
  },
  {
   "cell_type": "code",
   "execution_count": null,
   "id": "c4b501d6",
   "metadata": {},
   "outputs": [],
   "source": [
    "spn = SpeakerNet(**conf)\n",
    "\n",
    "params = loadParameters(spn,'./models/weights/RawNet3/model.pt')\n",
    "spn.load_state_dict(params)\n",
    "spn.cuda()"
   ]
  },
  {
   "cell_type": "code",
   "execution_count": null,
   "id": "7117ee2d",
   "metadata": {},
   "outputs": [],
   "source": [
    "test_list = './pairlist/veri_test.txt'\n",
    "test_path = '/direct/scp/voxceleb1'"
   ]
  },
  {
   "cell_type": "code",
   "execution_count": null,
   "id": "72c1e422",
   "metadata": {},
   "outputs": [],
   "source": [
    "pytorch_total_params = sum(p.numel() for p in spn.parameters())\n",
    "print('Total parameters: ',pytorch_total_params)\n",
    "print('Test list',test_list)"
   ]
  },
  {
   "cell_type": "code",
   "execution_count": null,
   "id": "f124692b",
   "metadata": {},
   "outputs": [],
   "source": [
    "import itertools"
   ]
  },
  {
   "cell_type": "code",
   "execution_count": null,
   "id": "5e773217",
   "metadata": {},
   "outputs": [],
   "source": [
    "spn.eval()\n",
    "\n",
    "lines       = []\n",
    "files       = []\n",
    "feats       = {}\n",
    "tstart      = time.time()\n",
    "\n",
    "## Read all lines\n",
    "with open(test_list) as f:\n",
    "    lines = f.readlines()\n",
    "## Get a list of unique file names\n",
    "files = list(itertools.chain(*[x.strip().split()[-2:] for x in lines]))\n",
    "setfiles = list(set(files))\n",
    "setfiles.sort()"
   ]
  },
  {
   "cell_type": "code",
   "execution_count": null,
   "id": "936376f9",
   "metadata": {},
   "outputs": [],
   "source": [
    "## Define test data loader\n",
    "test_dataset = test_dataset_loader(setfiles, test_path, num_eval=10, eval_frames=400)\n",
    "test_loader = torch.utils.data.DataLoader(\n",
    "    test_dataset,\n",
    "    batch_size=1,\n",
    "    shuffle=False,\n",
    "    num_workers=5,\n",
    "    drop_last=False,\n",
    "    sampler = None\n",
    ")"
   ]
  },
  {
   "cell_type": "code",
   "execution_count": null,
   "id": "b36c4a90",
   "metadata": {},
   "outputs": [],
   "source": [
    "print_interval = 100\n",
    "for idx, data in tqdm.notebook.tqdm(enumerate(test_loader), total=len(test_loader)):\n",
    "    inp1                = data[0][0].cuda()\n",
    "    with torch.no_grad():\n",
    "        ref_feat            = spn(inp1).detach().cpu()\n",
    "    feats[data[1][0]]   = ref_feat\n",
    "    telapsed            = time.time() - tstart\n",
    "    \n",
    "    if idx % print_interval == 0:\n",
    "        sys.stdout.write(\"\\rReading {:d} of {:d}: {:.2f} Hz, embedding size {:d}\".format(idx, test_loader.__len__(), idx / telapsed, ref_feat.size()[1]))"
   ]
  },
  {
   "cell_type": "code",
   "execution_count": null,
   "id": "67aafc5e",
   "metadata": {},
   "outputs": [],
   "source": [
    "ref_feat.shape"
   ]
  },
  {
   "cell_type": "code",
   "execution_count": null,
   "id": "5bb25925",
   "metadata": {},
   "outputs": [],
   "source": [
    "all_scores = [];\n",
    "all_labels = [];\n",
    "all_trials = [];\n",
    "tstart = time.time()\n",
    "\n",
    "## Read files and compute all scores\n",
    "for idx, line in tqdm.notebook.tqdm(enumerate(lines),total = len(lines)):\n",
    "\n",
    "    data = line.split();\n",
    "\n",
    "    ## Append random label if missing\n",
    "    if len(data) == 2: \n",
    "        data = [random.randint(0,1)] + data\n",
    "\n",
    "    ref_feat = feats[data[1]].cuda()\n",
    "    com_feat = feats[data[2]].cuda()\n",
    "\n",
    "    if spn.__L__.test_normalize:\n",
    "        ref_feat = F.normalize(ref_feat, p=2, dim=1)\n",
    "        com_feat = F.normalize(com_feat, p=2, dim=1)\n",
    "    \n",
    "    dist1 = torch.cdist(ref_feat.reshape(num_eval, -1), com_feat.reshape(num_eval, -1)).detach().cpu().numpy()\n",
    "    dist2 = F.pairwise_distance(ref_feat.unsqueeze(-1), com_feat.unsqueeze(-1).transpose(0,2)).detach().cpu().numpy();\n",
    "    score = -1 * np.mean(dist1);\n",
    "\n",
    "    all_scores.append(score);  \n",
    "    all_labels.append(int(data[0]));\n",
    "    all_trials.append(data[1]+\" \"+data[2])\n",
    "\n",
    "    if idx % print_interval == 0:\n",
    "        telapsed = time.time() - tstart\n",
    "        sys.stdout.write(\"\\rComputing {:d} of {:d}: {:.2f} Hz\".format(idx,len(lines),idx/telapsed));\n",
    "        sys.stdout.flush();"
   ]
  },
  {
   "cell_type": "code",
   "execution_count": null,
   "id": "7eadf087",
   "metadata": {},
   "outputs": [],
   "source": [
    "from scipy.optimize import brentq\n",
    "from scipy.interpolate import interp1d\n",
    "from sklearn.metrics import roc_curve\n",
    "\n",
    "fpr, tpr, thresholds = roc_curve(all_labels, all_scores, pos_label=1)\n",
    "fnr = 1 - tpr\n",
    "\n",
    "eer = brentq(lambda x : 1. - x - interp1d(fpr, tpr)(x), 0., 1.)\n",
    "thresh = interp1d(fpr, thresholds)(eer)\n",
    "print('\\n',time.strftime(\"%Y-%m-%d %H:%M:%S\"), \"VEER {:2.4f}\".format(eer*100))"
   ]
  },
  {
   "cell_type": "code",
   "execution_count": null,
   "id": "d8391711",
   "metadata": {},
   "outputs": [],
   "source": [
    "from scipy.optimize import brentq\n",
    "from scipy.interpolate import interp1d\n",
    "from sklearn.metrics import roc_curve"
   ]
  },
  {
   "cell_type": "code",
   "execution_count": null,
   "id": "822ae7ad",
   "metadata": {},
   "outputs": [],
   "source": [
    "import matplotlib.pyplot as plt"
   ]
  },
  {
   "cell_type": "code",
   "execution_count": null,
   "id": "b5ec5a5f",
   "metadata": {},
   "outputs": [],
   "source": [
    "%matplotlib inline\n",
    "fig = plt.figure(figsize=(5,2))\n",
    "plt.hist(all_scores,bins=50, color='royalblue')\n",
    "plt.xlabel('score')\n",
    "plt.ylabel('freq')\n",
    "plt.vlines(thresh,0,3000,color='black')\n"
   ]
  },
  {
   "cell_type": "code",
   "execution_count": null,
   "id": "152e222a",
   "metadata": {},
   "outputs": [],
   "source": [
    "all_preds = np.where(all_scores<thresh, 0, 1)\n",
    "all_labels = np.array(all_labels)"
   ]
  },
  {
   "cell_type": "code",
   "execution_count": null,
   "id": "27c4c516",
   "metadata": {},
   "outputs": [],
   "source": [
    "confusion_matrix(y_true=all_labels, y_pred=all_preds)"
   ]
  },
  {
   "cell_type": "markdown",
   "id": "d37d7803",
   "metadata": {},
   "source": [
    "# analysis\n"
   ]
  },
  {
   "cell_type": "code",
   "execution_count": null,
   "id": "b956315f",
   "metadata": {},
   "outputs": [],
   "source": [
    "indices = np.where((all_preds==0)&(all_labels==1))[0]\n",
    "FN = sorted([all_trials[idx] for idx in indices])\n",
    "len(FN)"
   ]
  },
  {
   "cell_type": "code",
   "execution_count": null,
   "id": "6efd024d",
   "metadata": {},
   "outputs": [],
   "source": [
    "tn_lines = [lines[i] for i in np.where((all_labels !=all_preds) & (all_labels==0) )[0]]\n",
    "fn_lines = [lines[i] for i in np.where((all_labels !=all_preds) & (all_labels==1) )[0]]"
   ]
  },
  {
   "cell_type": "code",
   "execution_count": null,
   "id": "1214ad38",
   "metadata": {},
   "outputs": [],
   "source": [
    "print_interval = 100\n",
    "tn_rawdist = [];\n",
    "\n",
    "tstart = time.time()\n",
    "## Read files and compute all scores\n",
    "for idx, line in enumerate(tn_lines):#enumerate(lines):\n",
    "    data = line.split();\n",
    "    try:\n",
    "        ref_feat = feats[data[1]].cuda()\n",
    "        com_feat = feats[data[2]].cuda()\n",
    "    except:\n",
    "        continue\n",
    "\n",
    "    if spn.__L__.test_normalize:\n",
    "        ref_feat = F.normalize(ref_feat, p=2, dim=1)\n",
    "        com_feat = F.normalize(com_feat, p=2, dim=1)\n",
    "        \n",
    "    rawdist = np.asarray(np.abs((ref_feat - com_feat).cpu()))#F.pairwise_distance(ref_feat.unsqueeze(-1), com_feat.unsqueeze(-1).transpose(0,2)).detach().cpu().numpy();\n",
    "    tn_rawdist.append(rawdist); \n",
    "\n",
    "    if idx % print_interval == 0:\n",
    "        telapsed = time.time() - tstart\n",
    "        sys.stdout.write(\"\\rComputing {:d} of {:d}: {:.2f} Hz\".format(idx,len(tn_lines),idx/telapsed));\n",
    "        sys.stdout.flush();\n",
    "        \n",
    "    #gc.collect()\n",
    "    #torch.cuda.empty_cache()\n",
    "tn_rawdist = np.asarray(tn_rawdist)\n",
    "print(tn_rawdist.shape)"
   ]
  },
  {
   "cell_type": "code",
   "execution_count": null,
   "id": "c50e36c2",
   "metadata": {},
   "outputs": [],
   "source": [
    "ax1 = plt.subplot(3,2,1)\n",
    "ax1.plot(tn_rawdist[0].mean(axis=0))\n",
    "ax1.set_ylim(0,0.3)\n",
    "\n",
    "ax1 = plt.subplot(3,2,2)\n",
    "ax1.plot(tn_rawdist[1].mean(axis=0))\n",
    "ax1.set_ylim(0,0.3)"
   ]
  },
  {
   "cell_type": "code",
   "execution_count": null,
   "id": "b42a7342",
   "metadata": {},
   "outputs": [],
   "source": [
    "fig = plt.figure(figsize=(15,3))\n",
    "plt.errorbar(range(0,512,1),tn_rawdist.mean(axis=1).mean(axis=0), tn_rawdist.std(axis=1).std(axis=0),fmt='-o')\n",
    "#plt.xlim(0,100)"
   ]
  },
  {
   "cell_type": "code",
   "execution_count": null,
   "id": "b3d8b1a1",
   "metadata": {},
   "outputs": [],
   "source": [
    "import shap"
   ]
  },
  {
   "cell_type": "code",
   "execution_count": null,
   "id": "95efed9b",
   "metadata": {},
   "outputs": [],
   "source": [
    "## Get a list of unique file names\n",
    "tnfiles = sum([x.strip().split()[-2:] for x in tn_lines],[])\n",
    "tnfiles = list(set(tnfiles))\n",
    "tnfiles.sort()"
   ]
  },
  {
   "cell_type": "code",
   "execution_count": null,
   "id": "ea80c722",
   "metadata": {},
   "outputs": [],
   "source": [
    "import gc"
   ]
  },
  {
   "cell_type": "code",
   "execution_count": null,
   "id": "041be989",
   "metadata": {},
   "outputs": [],
   "source": [
    "gc.collect()\n",
    "torch.cuda.empty_cache()"
   ]
  },
  {
   "cell_type": "code",
   "execution_count": null,
   "id": "cbbac7aa",
   "metadata": {},
   "outputs": [],
   "source": [
    "## Define test data loader\n",
    "test_dataset = test_dataset_loader(tnfiles, test_path, num_eval=1, eval_frames=400)\n",
    "test_loader = torch.utils.data.DataLoader(\n",
    "    test_dataset,\n",
    "    batch_size=50,\n",
    "    shuffle=False,\n",
    "    num_workers=1,\n",
    "    drop_last=False,\n",
    ")"
   ]
  },
  {
   "cell_type": "code",
   "execution_count": null,
   "id": "d41f5422",
   "metadata": {},
   "outputs": [],
   "source": [
    "batch = next(iter(test_loader))\n",
    "tnaudios, _ = batch\n",
    "background = tnaudios.to(device)\n",
    "e =shap.DeepExplainer(spn, background)"
   ]
  },
  {
   "cell_type": "code",
   "execution_count": null,
   "id": "6c400eed",
   "metadata": {},
   "outputs": [],
   "source": [
    "tnaudios.shape"
   ]
  },
  {
   "cell_type": "code",
   "execution_count": null,
   "id": "9415371d",
   "metadata": {},
   "outputs": [],
   "source": [
    "shap.DeepExplainer?"
   ]
  },
  {
   "cell_type": "code",
   "execution_count": null,
   "id": "44cc1f21",
   "metadata": {},
   "outputs": [],
   "source": [
    "tnaudios.reshape(50,64240)"
   ]
  },
  {
   "cell_type": "code",
   "execution_count": null,
   "id": "7b33d70f",
   "metadata": {},
   "outputs": [],
   "source": [
    "s = e.shap_values(background)"
   ]
  },
  {
   "cell_type": "code",
   "execution_count": null,
   "id": "9ed27992",
   "metadata": {},
   "outputs": [],
   "source": [
    "display(audio1)"
   ]
  },
  {
   "cell_type": "code",
   "execution_count": null,
   "id": "5c2edefa",
   "metadata": {},
   "outputs": [],
   "source": [
    "select = widgets.Select(options=FN, layout=widgets.Layout(width='500px', height='500px'))\n",
    "\n",
    "audio1 = widgets.Audio(autoplay=False, loop=False)\n",
    "audio2 = widgets.Audio(autoplay=False, loop=False)\n",
    "\n",
    "def on_change(change):\n",
    "    a1, a2 = change['new'].split()\n",
    "    audio1.value = widgets.Audio.from_file(os.path.join(test_path, a1)).value\n",
    "    audio2.value = widgets.Audio.from_file(os.path.join(test_path, a2)).value\n",
    "\n",
    "select.observe(on_change, 'value')\n",
    "select.value=FN[0]"
   ]
  }
 ],
 "metadata": {
  "celltoolbar": "Raw Cell Format",
  "kernelspec": {
   "display_name": "Python 3 (ipykernel)",
   "language": "python",
   "name": "python3"
  },
  "language_info": {
   "codemirror_mode": {
    "name": "ipython",
    "version": 3
   },
   "file_extension": ".py",
   "mimetype": "text/x-python",
   "name": "python",
   "nbconvert_exporter": "python",
   "pygments_lexer": "ipython3",
   "version": "3.10.8"
  }
 },
 "nbformat": 4,
 "nbformat_minor": 5
}
